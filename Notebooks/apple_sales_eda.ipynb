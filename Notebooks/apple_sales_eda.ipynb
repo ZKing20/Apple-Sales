{
 "cells": [
  {
   "cell_type": "code",
   "execution_count": 1,
   "id": "972262f6",
   "metadata": {},
   "outputs": [
    {
     "name": "stdout",
     "output_type": "stream",
     "text": [
      "📁 Your Apple Sales CSVs:\n",
      "  - products.csv\n",
      "  - category.csv\n",
      "  - warranty.csv\n",
      "  - stores.csv\n",
      "  - sales.csv\n",
      "\n",
      "🔍 products.csv Preview:\n",
      "Shape: (89, 5)\n",
      "Columns: ['Product_ID', 'Product_Name', 'Category_ID', 'Launch_Date', 'Price']\n",
      "  Product_ID         Product_Name Category_ID Launch_Date  Price\n",
      "0        P-1              MacBook       CAT-1  2023-09-17   1149\n",
      "1        P-2     MacBook Air (M1)       CAT-1  2023-11-11   1783\n",
      "2        P-3     MacBook Air (M2)       CAT-1  2020-05-24   1588\n",
      "3        P-4  MacBook Pro 13-inch       CAT-1  2021-01-17   1351\n",
      "4        P-5  MacBook Pro 14-inch       CAT-1  2024-05-12    768\n"
     ]
    }
   ],
   "source": [
    "import pandas as pd\n",
    "import os\n",
    "\n",
    "# List CSVs in Data/\n",
    "data_path = '../Data'\n",
    "csv_files = [f for f in os.listdir(data_path) if f.endswith('.csv')]\n",
    "print(\"📁 Your Apple Sales CSVs:\")\n",
    "for f in csv_files:\n",
    "    print(f\"  - {f}\")\n",
    "\n",
    "# Preview first CSV (adjust name below if needed)\n",
    "first_csv = csv_files[0] if csv_files else None\n",
    "if first_csv:\n",
    "    df = pd.read_csv(f'{data_path}/{first_csv}')\n",
    "    print(f\"\\n🔍 {first_csv} Preview:\")\n",
    "    print(\"Shape:\", df.shape)\n",
    "    print(\"Columns:\", df.columns.tolist())\n",
    "    print(df.head())\n",
    "else:\n",
    "    print(\"No CSVs found—add to Data/!\")"
   ]
  },
  {
   "cell_type": "code",
   "execution_count": null,
   "id": "56c039e3-5e03-4526-8d67-ed013066d3cd",
   "metadata": {},
   "outputs": [],
   "source": []
  }
 ],
 "metadata": {
  "kernelspec": {
   "display_name": ".venv",
   "language": "python",
   "name": "python3"
  },
  "language_info": {
   "codemirror_mode": {
    "name": "ipython",
    "version": 3
   },
   "file_extension": ".py",
   "mimetype": "text/x-python",
   "name": "python",
   "nbconvert_exporter": "python",
   "pygments_lexer": "ipython3",
   "version": "3.14.0"
  }
 },
 "nbformat": 4,
 "nbformat_minor": 5
}
