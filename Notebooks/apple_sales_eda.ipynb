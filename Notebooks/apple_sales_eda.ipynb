{
 "cells": [
  {
   "cell_type": "code",
   "execution_count": null,
   "id": "0",
   "metadata": {},
   "outputs": [],
   "source": [
    "import pandas as pd\n",
    "import os\n",
    "\n",
    "# List CSVs in Data/\n",
    "data_path = '../Data'\n",
    "csv_files = [f for f in os.listdir(data_path) if f.endswith('.csv')]\n",
    "print(\"Your Apple Sales CSVs:\")\n",
    "for f in csv_files:\n",
    "    print(f\"  - {f}\")\n",
    "\n",
    "# Preview first CSV (adjust name below if needed)\n",
    "first_csv = csv_files[0] if csv_files else None\n",
    "if first_csv:\n",
    "    df = pd.read_csv(f'{data_path}/{first_csv}')\n",
    "    print(f\"\\n {first_csv} Preview:\")\n",
    "    print(\"Shape:\", df.shape)\n",
    "    print(\"Columns:\", df.columns.tolist())\n",
    "    print(df.head())\n",
    "else:\n",
    "    print(\"No CSVs found—add to Data/!\")"
   ]
  },
  {
   "cell_type": "code",
   "execution_count": null,
   "id": "1",
   "metadata": {},
   "outputs": [],
   "source": []
  }
 ],
 "metadata": {
  "kernelspec": {
   "display_name": ".venv",
   "language": "python",
   "name": "python3"
  },
  "language_info": {
   "codemirror_mode": {
    "name": "ipython",
    "version": 3
   },
   "file_extension": ".py",
   "mimetype": "text/x-python",
   "name": "python",
   "nbconvert_exporter": "python",
   "pygments_lexer": "ipython3",
   "version": "3.14.0"
  }
 },
 "nbformat": 4,
 "nbformat_minor": 5
}
