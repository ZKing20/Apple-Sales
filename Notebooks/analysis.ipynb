{
 "cells": [
  {
   "cell_type": "code",
   "execution_count": 6,
   "id": "cabed006",
   "metadata": {},
   "outputs": [
    {
     "data": {
      "text/html": [
       "<div>\n",
       "<style scoped>\n",
       "    .dataframe tbody tr th:only-of-type {\n",
       "        vertical-align: middle;\n",
       "    }\n",
       "\n",
       "    .dataframe tbody tr th {\n",
       "        vertical-align: top;\n",
       "    }\n",
       "\n",
       "    .dataframe thead th {\n",
       "        text-align: right;\n",
       "    }\n",
       "</style>\n",
       "<table border=\"1\" class=\"dataframe\">\n",
       "  <thead>\n",
       "    <tr style=\"text-align: right;\">\n",
       "      <th></th>\n",
       "      <th>sale_id</th>\n",
       "      <th>sale_date</th>\n",
       "      <th>store_id</th>\n",
       "      <th>product_id</th>\n",
       "      <th>quantity</th>\n",
       "    </tr>\n",
       "  </thead>\n",
       "  <tbody>\n",
       "    <tr>\n",
       "      <th>0</th>\n",
       "      <td>YG-8782</td>\n",
       "      <td>16-06-2023</td>\n",
       "      <td>ST-10</td>\n",
       "      <td>P-38</td>\n",
       "      <td>10</td>\n",
       "    </tr>\n",
       "    <tr>\n",
       "      <th>1</th>\n",
       "      <td>QX-999001</td>\n",
       "      <td>13-04-2022</td>\n",
       "      <td>ST-63</td>\n",
       "      <td>P-48</td>\n",
       "      <td>10</td>\n",
       "    </tr>\n",
       "    <tr>\n",
       "      <th>2</th>\n",
       "      <td>JG-46890</td>\n",
       "      <td>05-07-2021</td>\n",
       "      <td>ST-26</td>\n",
       "      <td>P-79</td>\n",
       "      <td>5</td>\n",
       "    </tr>\n",
       "    <tr>\n",
       "      <th>3</th>\n",
       "      <td>XJ-1731</td>\n",
       "      <td>20-07-2022</td>\n",
       "      <td>ST-15</td>\n",
       "      <td>P-24</td>\n",
       "      <td>9</td>\n",
       "    </tr>\n",
       "    <tr>\n",
       "      <th>4</th>\n",
       "      <td>FG-95080</td>\n",
       "      <td>18-03-2022</td>\n",
       "      <td>ST-35</td>\n",
       "      <td>P-69</td>\n",
       "      <td>7</td>\n",
       "    </tr>\n",
       "  </tbody>\n",
       "</table>\n",
       "</div>"
      ],
      "text/plain": [
       "     sale_id   sale_date store_id product_id  quantity\n",
       "0    YG-8782  16-06-2023    ST-10       P-38        10\n",
       "1  QX-999001  13-04-2022    ST-63       P-48        10\n",
       "2   JG-46890  05-07-2021    ST-26       P-79         5\n",
       "3    XJ-1731  20-07-2022    ST-15       P-24         9\n",
       "4   FG-95080  18-03-2022    ST-35       P-69         7"
      ]
     },
     "execution_count": 6,
     "metadata": {},
     "output_type": "execute_result"
    }
   ],
   "source": [
    "import pandas as pd\n",
    "df = pd.read_csv(r'C:\\Users\\zKing\\OneDrive\\Desktop\\Coding\\Data Analysis Projects\\Apple Sales\\sales.csv')\n",
    "df.head()"
   ]
  }
 ],
 "metadata": {
  "kernelspec": {
   "display_name": "Python 3",
   "language": "python",
   "name": "python3"
  },
  "language_info": {
   "codemirror_mode": {
    "name": "ipython",
    "version": 3
   },
   "file_extension": ".py",
   "mimetype": "text/x-python",
   "name": "python",
   "nbconvert_exporter": "python",
   "pygments_lexer": "ipython3",
   "version": "3.11.9"
  }
 },
 "nbformat": 4,
 "nbformat_minor": 5
}
